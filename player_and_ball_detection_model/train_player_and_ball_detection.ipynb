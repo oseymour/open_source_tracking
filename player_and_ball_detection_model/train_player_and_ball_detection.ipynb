{
 "cells": [
  {
   "cell_type": "code",
   "execution_count": null,
   "id": "4f0c419d-f4b8-4ea6-902a-d048c42cb229",
   "metadata": {},
   "outputs": [],
   "source": [
    "import sys\n",
    "sys.path.append(\"../\")\n",
    "\n",
    "import constants as C\n",
    "from ultralytics import YOLO, settings\n",
    "import os\n",
    "\n",
    "settings.update({\n",
    "    \"datasets_dir\": C.PLAYER_BALL_DATASETS, # change datasets folder for player and ball detection model\n",
    "    \"runs_dir\": os.path.join(os.getcwd(), \"runs\"),  # save runs here\n",
    "})\n",
    "\n",
    "# Clear label caches, if they exist\n",
    "for folder in [\"train\", \"valid\", \"test\"]:\n",
    "    label_cache_path = os.path.join(C.PLAYER_BALL_DATASETS, C.PLAYER_BALL_DATASET_NAME, folder, \"labels.cache\")\n",
    "    if os.path.exists(label_cache_path):\n",
    "        print(f\"Deleting {label_cache_path}.\")\n",
    "        os.remove(label_cache_path)"
   ]
  },
  {
   "cell_type": "markdown",
   "id": "eb7adf81-9534-4ec8-8496-45da469d77e8",
   "metadata": {},
   "source": [
    "# Init model"
   ]
  },
  {
   "cell_type": "code",
   "execution_count": null,
   "id": "6a248ff3-9656-492c-a264-4a8028dc5551",
   "metadata": {},
   "outputs": [],
   "source": [
    "model = YOLO(\"yolov8x.pt\")\n",
    "_ = model.info()"
   ]
  },
  {
   "cell_type": "markdown",
   "id": "047473dc-df59-4d30-b9cb-11e8efc9961d",
   "metadata": {},
   "source": [
    "# Train model"
   ]
  },
  {
   "cell_type": "code",
   "execution_count": null,
   "id": "2250023d-1bde-4ee4-910e-e0ef47eddf57",
   "metadata": {
    "scrolled": true
   },
   "outputs": [],
   "source": [
    "model.train(\n",
    "    data=os.path.join(C.PLAYER_BALL_DATASETS, C.PLAYER_BALL_DATASET_NAME, \"data.yaml\"), \n",
    "    imgsz=C.PLAYER_BALL_IMGSZ, batch=C.PLAYER_BALL_BATCH, epochs=500\n",
    ")"
   ]
  },
  {
   "cell_type": "code",
   "execution_count": null,
   "id": "3f505975-52cf-4720-a45c-15688869bb4d",
   "metadata": {},
   "outputs": [],
   "source": []
  }
 ],
 "metadata": {
  "kernelspec": {
   "display_name": "Python 3 (ipykernel)",
   "language": "python",
   "name": "python3"
  },
  "language_info": {
   "codemirror_mode": {
    "name": "ipython",
    "version": 3
   },
   "file_extension": ".py",
   "mimetype": "text/x-python",
   "name": "python",
   "nbconvert_exporter": "python",
   "pygments_lexer": "ipython3",
   "version": "3.10.12"
  }
 },
 "nbformat": 4,
 "nbformat_minor": 5
}
